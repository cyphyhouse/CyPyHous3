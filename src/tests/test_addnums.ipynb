{
 "cells": [
  {
   "cell_type": "code",
   "execution_count": 2,
   "metadata": {},
   "outputs": [],
   "source": [
    "from src.apps.addnums import AddNums"
   ]
  },
  {
   "cell_type": "code",
   "execution_count": 4,
   "metadata": {},
   "outputs": [
    {
     "name": "stdout",
     "output_type": "stream",
     "text": [
      "final sum is 12\n",
      "stopped application thread on agent 3\n",
      "final sum is 12\n",
      "stopped application thread on agent 1\n",
      "final sum is 12\n",
      "stopped application thread on agent 2\n",
      "agentagent 2 1 timed out\n",
      "agent 3 timed out\n",
      " timed out\n"
     ]
    }
   ],
   "source": [
    "from src.config.configs import AgentConfig\n",
    "from src.functionality.base_mutex_handler import BaseMutexHandler\n",
    "\n",
    "bots = 3\n",
    "\n",
    "a1 = AgentConfig(1, bots, \"\", rport=2001, plist=[2001, 2002, 2003], mh=BaseMutexHandler, is_leader=False,\n",
    "                 mhargs=[False, 1])\n",
    "a2 = AgentConfig(2, bots, \"\", rport=2002, plist=[2001, 2002, 2003], mh=BaseMutexHandler, is_leader=True,\n",
    "                 mhargs=[True, 2])\n",
    "a3 = AgentConfig(3, bots, \"\", rport=2003, plist=[2001, 2002, 2003], mh=BaseMutexHandler, is_leader=False,\n",
    "                 mhargs=[False, 3])\n",
    "\n",
    "app1 = AddNums(a1)\n",
    "app2 = AddNums(a2)\n",
    "app3 = AddNums(a3)\n"
   ]
  },
  {
   "cell_type": "code",
   "execution_count": null,
   "metadata": {},
   "outputs": [],
   "source": []
  }
 ],
 "metadata": {
  "kernelspec": {
   "display_name": "Python 3",
   "language": "python",
   "name": "python3"
  },
  "language_info": {
   "codemirror_mode": {
    "name": "ipython",
    "version": 3
   },
   "file_extension": ".py",
   "mimetype": "text/x-python",
   "name": "python",
   "nbconvert_exporter": "python",
   "pygments_lexer": "ipython3",
   "version": "3.7.3"
  }
 },
 "nbformat": 4,
 "nbformat_minor": 1
}
