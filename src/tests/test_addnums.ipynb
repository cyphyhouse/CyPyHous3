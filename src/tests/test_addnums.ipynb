{
 "cells": [
  {
   "cell_type": "code",
   "execution_count": 2,
   "metadata": {
    "collapsed": true
   },
   "outputs": [],
   "source": [
    "from src.apps.addnums import AddNums"
   ]
  },
  {
   "cell_type": "code",
   "execution_count": 4,
   "metadata": {},
   "outputs": [],
   "source": [
    "from src.config.configs import AgentConfig\n",
    "from src.functionality.base_mutex_handler import BaseMutexHandler\n",
    "\n",
    "bots = 3\n",
    "\n",
    "a1 = AgentConfig(1, bots, \"\", rport=2001, plist=[2001, 2002, 2003], mh=BaseMutexHandler, is_leader=False,\n",
    "                 mhargs=[False, 1])\n",
    "a2 = AgentConfig(2, bots, \"\", rport=2002, plist=[2001, 2002, 2003], mh=BaseMutexHandler, is_leader=True,\n",
    "                 mhargs=[True, 2])\n",
    "a3 = AgentConfig(3, bots, \"\", rport=2003, plist=[2001, 2002, 2003], mh=BaseMutexHandler, is_leader=False,\n",
    "                 mhargs=[False, 3])\n",
    "\n",
    "app1 = AddNums(a1)\n",
    "app2 = AddNums(a2)\n",
    "app3 = AddNums(a3)\n"
   ]
  },
  {
   "cell_type": "code",
   "execution_count": null,
   "metadata": {},
   "outputs": [],
   "source": []
  }
 ],
 "metadata": {
  "kernelspec": {
   "display_name": "Python 2",
   "language": "python",
   "name": "python2"
  },
  "language_info": {
   "codemirror_mode": {
    "name": "ipython",
    "version": 2
   },
   "file_extension": ".py",
   "mimetype": "text/x-python",
   "name": "python",
   "nbconvert_exporter": "python",
   "pygments_lexer": "ipython2",
   "version": "2.7.6"
  }
 },
 "nbformat": 4,
 "nbformat_minor": 0
}
